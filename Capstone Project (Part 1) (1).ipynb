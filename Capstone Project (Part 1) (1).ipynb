{
 "cells": [
  {
   "cell_type": "markdown",
   "metadata": {},
   "source": [
    "### 1. Description of Problem"
   ]
  },
  {
   "cell_type": "markdown",
   "metadata": {},
   "source": [
    "Someone is looking to open up a new restaurant in Scarborough, Toronto and is looking for the perfect area to do so. She is looking for a populated area with a diversity of residents that is easily accessible by car and public transportation but is also affordable. My recommender system will provide with new restaurant owner with a list of neighborhoods in Scarborough, Toronto that would be a good match for her needs."
   ]
  },
  {
   "cell_type": "markdown",
   "metadata": {},
   "source": [
    "### 2. Description of Data"
   ]
  },
  {
   "cell_type": "markdown",
   "metadata": {},
   "source": [
    "We will need geo-spatial information about the different neighborhoods in Scarborough, Toronto by also taking into consideration the latitude and longitude of Toronto. We will use the postal codes provided to us on Wikipedia for the different locations in Toronto. \n",
    "\n",
    "We will also need more detailed data about these locations. This detailed data includes category of venue, what the average price of renting/owning a commercial place to start a restaurant is and the price of the services in that venue. Lastly, we will take into consideration how populated the area is and how popular it is - i.e how many people visit this location per period of time."
   ]
  },
  {
   "cell_type": "code",
   "execution_count": null,
   "metadata": {},
   "outputs": [],
   "source": []
  }
 ],
 "metadata": {
  "kernelspec": {
   "display_name": "Python",
   "language": "python",
   "name": "conda-env-python-py"
  },
  "language_info": {
   "codemirror_mode": {
    "name": "ipython",
    "version": 3
   },
   "file_extension": ".py",
   "mimetype": "text/x-python",
   "name": "python",
   "nbconvert_exporter": "python",
   "pygments_lexer": "ipython3",
   "version": "3.6.10"
  }
 },
 "nbformat": 4,
 "nbformat_minor": 4
}
